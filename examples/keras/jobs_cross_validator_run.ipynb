{
 "cells": [
  {
   "cell_type": "markdown",
   "metadata": {},
   "source": [
    "# Cross validating Keras models"
   ]
  },
  {
   "cell_type": "code",
   "execution_count": null,
   "metadata": {},
   "outputs": [],
   "source": [
    "import os\n",
    "\n",
    "import matplotlib.pyplot as plt\n",
    "\n",
    "from keras.layers.core import Activation\n",
    "from keras.layers.core import Dense\n",
    "from keras.models import Sequential\n",
    "from keras.utils import np_utils\n",
    "from sklearn.datasets import load_digits\n",
    "from sklearn.model_selection import ShuffleSplit\n",
    "\n",
    "from faculty_xval.validation import JobsCrossValidator\n",
    "from faculty_xval.utilities import job_name_to_job_id"
   ]
  },
  {
   "cell_type": "code",
   "execution_count": null,
   "metadata": {},
   "outputs": [],
   "source": [
    "REFERENCE_DIR = \"foo\"\n",
    "JOB_NAME = \"bar\""
   ]
  },
  {
   "cell_type": "markdown",
   "metadata": {},
   "source": [
    "**Note:** In the code cell above, the definitions of `REFERENCE_DIR` and `JOB_NAME` change depending on how `faculty-xval` was installed:\n",
    "\n",
    "* If you followed the **User installation instructions**, choose any `REFERENCE_DIR` for saving the results of cross validation. Running this notebook will create a sub-directory labelled with the current date and time, so that the output data are never overwritten. Make sure to specify `JOB_NAME` as `\"cross_validation\"`.\n",
    "\n",
    "* If you followed the **Developer installation instructions**, create a directory for saving the results of cross validation in your personal directory (`/project/{USER_NAME}/temp`). Then select `REFERENCE_DIR` and `JOB_NAME` as follows:\n",
    "```python\n",
    "REFERENCE_DIR = \"/project/{}/temp/\".format(\n",
    "    os.environ[\"USER_NAME\"]\n",
    ")\n",
    "JOB_NAME = \"cross_validation_{}\".format(\n",
    "    os.environ[\"USER_NAME\"]\n",
    ")\n",
    "```"
   ]
  },
  {
   "cell_type": "code",
   "execution_count": null,
   "metadata": {},
   "outputs": [],
   "source": [
    "# A quick check...\n",
    "if not os.path.isdir(REFERENCE_DIR):\n",
    "    raise OSError((\n",
    "        \"Path {} cannot be found \"\n",
    "        + \"or is not a directory\"\n",
    "    ).format(REFERENCE_DIR))"
   ]
  },
  {
   "cell_type": "code",
   "execution_count": null,
   "metadata": {},
   "outputs": [],
   "source": [
    "N_SPLITS = 10\n",
    "TEST_SIZE = 0.25\n",
    "\n",
    "N_NODES = 40\n",
    "ACTIVATIONS = [\"relu\", \"softmax\"]\n",
    "LOSS = \"categorical_crossentropy\"\n",
    "OPTIMIZER = \"adam\"\n",
    "FIT_KWARGS = {\n",
    "    \"epochs\": 16,\n",
    "    \"batch_size\": 32,\n",
    "    \"verbose\": 0\n",
    "}\n",
    "\n",
    "NUM_SUBRUNS = 3"
   ]
  },
  {
   "cell_type": "markdown",
   "metadata": {},
   "source": [
    "## Initialise the cross validator"
   ]
  },
  {
   "cell_type": "code",
   "execution_count": null,
   "metadata": {},
   "outputs": [],
   "source": [
    "job_id = job_name_to_job_id(JOB_NAME)\n",
    "cross_validator = JobsCrossValidator(job_id, REFERENCE_DIR)"
   ]
  },
  {
   "cell_type": "markdown",
   "metadata": {},
   "source": [
    "## Load the data"
   ]
  },
  {
   "cell_type": "code",
   "execution_count": null,
   "metadata": {},
   "outputs": [],
   "source": [
    "dataset = load_digits()\n",
    "features = dataset[\"data\"]\n",
    "targets = dataset[\"target\"]"
   ]
  },
  {
   "cell_type": "code",
   "execution_count": null,
   "metadata": {},
   "outputs": [],
   "source": [
    "# Convert targets to one-hot encoding.\n",
    "targets = np_utils.to_categorical(targets)"
   ]
  },
  {
   "cell_type": "code",
   "execution_count": null,
   "metadata": {},
   "outputs": [],
   "source": [
    "print(\"Features:\")\n",
    "plt.imshow(features[3].reshape(8,8))\n",
    "plt.show()\n",
    "\n",
    "print(\"Targets:\")\n",
    "print(targets[3])"
   ]
  },
  {
   "cell_type": "code",
   "execution_count": null,
   "metadata": {},
   "outputs": [],
   "source": [
    "split_generator = ShuffleSplit(\n",
    "    n_splits=N_SPLITS,\n",
    "    test_size=TEST_SIZE\n",
    ").split(features)"
   ]
  },
  {
   "cell_type": "markdown",
   "metadata": {},
   "source": [
    "## Define the Keras model"
   ]
  },
  {
   "cell_type": "code",
   "execution_count": null,
   "metadata": {},
   "outputs": [],
   "source": [
    "model = Sequential()\n",
    "model.add(Dense(\n",
    "    N_NODES,\n",
    "    input_shape=(features.shape[1],)\n",
    "))\n",
    "model.add(Activation(ACTIVATIONS[0]))\n",
    "model.add(Dense(targets.shape[1]))\n",
    "model.add(Activation(ACTIVATIONS[1]))"
   ]
  },
  {
   "cell_type": "code",
   "execution_count": null,
   "metadata": {},
   "outputs": [],
   "source": [
    "model.compile(loss=LOSS, optimizer=OPTIMIZER)"
   ]
  },
  {
   "cell_type": "markdown",
   "metadata": {},
   "source": [
    "## Perform cross validation"
   ]
  },
  {
   "cell_type": "code",
   "execution_count": null,
   "metadata": {},
   "outputs": [],
   "source": [
    "cross_validator.run(\n",
    "    model,\n",
    "    [features],\n",
    "    [targets],\n",
    "    split_generator,\n",
    "    NUM_SUBRUNS,\n",
    "    fit_kwargs=FIT_KWARGS\n",
    ")"
   ]
  }
 ],
 "metadata": {
  "kernelspec": {
   "display_name": "Python [conda env:Python3]",
   "language": "python",
   "name": "conda-env-Python3-py"
  },
  "language_info": {
   "codemirror_mode": {
    "name": "ipython",
    "version": 3
   },
   "file_extension": ".py",
   "mimetype": "text/x-python",
   "name": "python",
   "nbconvert_exporter": "python",
   "pygments_lexer": "ipython3",
   "version": "3.6.8"
  }
 },
 "nbformat": 4,
 "nbformat_minor": 2
}
