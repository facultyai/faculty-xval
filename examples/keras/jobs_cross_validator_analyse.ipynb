{
 "cells": [
  {
   "cell_type": "markdown",
   "metadata": {},
   "source": [
    "# Analysing the results of cross validation for Keras models"
   ]
  },
  {
   "cell_type": "code",
   "execution_count": null,
   "metadata": {},
   "outputs": [],
   "source": [
    "import json\n",
    "import os\n",
    "\n",
    "import numpy as np\n",
    "\n",
    "from faculty_xval.utilities import most_recent_xval_dirs\n",
    "from faculty_xval.validation import jobs_cross_validator_from_json"
   ]
  },
  {
   "cell_type": "code",
   "execution_count": null,
   "metadata": {},
   "outputs": [],
   "source": [
    "REFERENCE_DIR = \"foo\""
   ]
  },
  {
   "cell_type": "markdown",
   "metadata": {},
   "source": [
    "**Note**: Define `REFERENCE_DIR` as in the notebook `jobs_cross_validator_run.ipynb`. Recall that `Users` and `Developers` specify this variable in different ways."
   ]
  },
  {
   "cell_type": "code",
   "execution_count": null,
   "metadata": {},
   "outputs": [],
   "source": [
    "# Locate directory for most recent cross validation.\n",
    "xval_dir = most_recent_xval_dirs(REFERENCE_DIR)[0]"
   ]
  },
  {
   "cell_type": "code",
   "execution_count": null,
   "metadata": {},
   "outputs": [],
   "source": [
    "# Reload instance of JobsCrossValidator.\n",
    "cross_validator = jobs_cross_validator_from_json(\n",
    "    os.path.join(xval_dir, \"validator.json\")\n",
    ")\n",
    "if cross_validator.model_type != \"keras\":\n",
    "    raise TypeError(\"Model type must be Keras\")"
   ]
  },
  {
   "cell_type": "code",
   "execution_count": null,
   "metadata": {},
   "outputs": [],
   "source": [
    "# Gather the results of cross validation.\n",
    "_, indices_test, predictions = cross_validator.gather()"
   ]
  },
  {
   "cell_type": "code",
   "execution_count": null,
   "metadata": {},
   "outputs": [],
   "source": [
    "# Check that the predicted probabilities\n",
    "# add up to 1 with a small error.\n",
    "np.abs(predictions.sum(axis=2) - 1).max()"
   ]
  },
  {
   "cell_type": "code",
   "execution_count": null,
   "metadata": {},
   "outputs": [],
   "source": [
    "# Reload the target data.\n",
    "with open(os.path.join(xval_dir, cross_validator.targets_base), \"r\") as f:\n",
    "    targets = np.array(json.load(f))[0]"
   ]
  },
  {
   "cell_type": "code",
   "execution_count": null,
   "metadata": {},
   "outputs": [],
   "source": [
    "# Get test dataset of every split.\n",
    "targets_test = np.take(targets, indices_test, axis=0)"
   ]
  },
  {
   "cell_type": "code",
   "execution_count": null,
   "metadata": {},
   "outputs": [],
   "source": [
    "assert targets_test.shape == predictions.shape"
   ]
  },
  {
   "cell_type": "code",
   "execution_count": null,
   "metadata": {},
   "outputs": [],
   "source": [
    "# Check that the classes are balanced.\n",
    "for i, count in enumerate(targets.sum(axis=0).astype(int)):\n",
    "    print(\"Class {}: {}\".format(i, count))"
   ]
  },
  {
   "cell_type": "code",
   "execution_count": null,
   "metadata": {},
   "outputs": [],
   "source": [
    "# Convert from one-hot encoding to\n",
    "# labels with values from 0 to 9.\n",
    "y_test = targets_test.argmax(axis=2)\n",
    "y_pred = predictions.argmax(axis=2)\n",
    "\n",
    "# Calculate the model accuracy\n",
    "# on each train/test split.\n",
    "accuracy = (y_test == y_pred).sum(axis=1) / y_test.shape[1]"
   ]
  },
  {
   "cell_type": "code",
   "execution_count": null,
   "metadata": {},
   "outputs": [],
   "source": [
    "print(\n",
    "    \"Accuracy: {:.4g}% ± {:.4g}%\".format(\n",
    "        np.mean(accuracy) * 100.0, np.std(accuracy) * 100.0\n",
    "    )\n",
    ")"
   ]
  }
 ],
 "metadata": {
  "kernelspec": {
   "display_name": "Python [conda env:Python3]",
   "language": "python",
   "name": "conda-env-Python3-py"
  },
  "language_info": {
   "codemirror_mode": {
    "name": "ipython",
    "version": 3
   },
   "file_extension": ".py",
   "mimetype": "text/x-python",
   "name": "python",
   "nbconvert_exporter": "python",
   "pygments_lexer": "ipython3",
   "version": "3.6.8"
  }
 },
 "nbformat": 4,
 "nbformat_minor": 2
}
