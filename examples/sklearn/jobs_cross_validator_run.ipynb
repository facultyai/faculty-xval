{
 "cells": [
  {
   "cell_type": "markdown",
   "metadata": {},
   "source": [
    "# Cross validating Scikit-Learn models"
   ]
  },
  {
   "cell_type": "code",
   "execution_count": null,
   "metadata": {},
   "outputs": [],
   "source": [
    "import os\n",
    "\n",
    "import matplotlib.pyplot as plt\n",
    "\n",
    "from sklearn.datasets import load_digits\n",
    "from sklearn.ensemble import RandomForestClassifier\n",
    "from sklearn.model_selection import ShuffleSplit\n",
    "\n",
    "from faculty_xval.validation import JobsCrossValidator\n",
    "from faculty_xval.utilities import job_name_to_job_id"
   ]
  },
  {
   "cell_type": "markdown",
   "metadata": {},
   "source": [
    "**Note**: Please create a directory for storing the results of cross validation in your personal directory (`/project/{USER_NAME}/temp`)."
   ]
  },
  {
   "cell_type": "code",
   "execution_count": null,
   "metadata": {},
   "outputs": [],
   "source": [
    "JOB_NAME = \"cross_validation_{}\".format(\n",
    "    os.environ[\"USER_NAME\"]\n",
    ")\n",
    "REFERENCE_DIR = \"/project/{}/temp/\".format(\n",
    "    os.environ[\"USER_NAME\"]\n",
    ")\n",
    "if not os.path.isdir(REFERENCE_DIR):\n",
    "    raise OSError((\n",
    "        \"Path {} cannot be found \"\n",
    "        + \"or is not a directory\"\n",
    "    ).format(REFERENCE_DIR))\n",
    "\n",
    "N_SPLITS = 10\n",
    "TEST_SIZE = 0.25\n",
    "\n",
    "MIN_SAMPLES_LEAF = 20\n",
    "N_ESTIMATORS = 200\n",
    "\n",
    "NUM_SUBRUNS = 3"
   ]
  },
  {
   "cell_type": "markdown",
   "metadata": {},
   "source": [
    "## Initialise the cross validator"
   ]
  },
  {
   "cell_type": "code",
   "execution_count": null,
   "metadata": {},
   "outputs": [],
   "source": [
    "job_id = job_name_to_job_id(JOB_NAME)\n",
    "cross_validator = JobsCrossValidator(job_id, REFERENCE_DIR)"
   ]
  },
  {
   "cell_type": "markdown",
   "metadata": {},
   "source": [
    "## Load the data"
   ]
  },
  {
   "cell_type": "code",
   "execution_count": null,
   "metadata": {},
   "outputs": [],
   "source": [
    "dataset = load_digits()\n",
    "features = dataset[\"data\"]\n",
    "targets = dataset[\"target\"]"
   ]
  },
  {
   "cell_type": "code",
   "execution_count": null,
   "metadata": {},
   "outputs": [],
   "source": [
    "print(\"Features:\")\n",
    "plt.imshow(features[3].reshape(8,8))\n",
    "plt.show()\n",
    "\n",
    "print(\"Target: {}\".format(targets[3]))"
   ]
  },
  {
   "cell_type": "code",
   "execution_count": null,
   "metadata": {},
   "outputs": [],
   "source": [
    "split_generator = ShuffleSplit(\n",
    "    n_splits=N_SPLITS,\n",
    "    test_size=TEST_SIZE\n",
    ").split(features)"
   ]
  },
  {
   "cell_type": "markdown",
   "metadata": {},
   "source": [
    "## Define the Scikit-Learn model"
   ]
  },
  {
   "cell_type": "code",
   "execution_count": null,
   "metadata": {},
   "outputs": [],
   "source": [
    "model = RandomForestClassifier(\n",
    "    min_samples_leaf=MIN_SAMPLES_LEAF,\n",
    "    n_estimators=N_ESTIMATORS\n",
    ")"
   ]
  },
  {
   "cell_type": "markdown",
   "metadata": {},
   "source": [
    "## Perform cross validation"
   ]
  },
  {
   "cell_type": "code",
   "execution_count": null,
   "metadata": {},
   "outputs": [],
   "source": [
    "cross_validator.run(\n",
    "    model,\n",
    "    [features],\n",
    "    [targets],\n",
    "    split_generator,\n",
    "    NUM_SUBRUNS\n",
    ")"
   ]
  }
 ],
 "metadata": {
  "kernelspec": {
   "display_name": "Python [conda env:Python3]",
   "language": "python",
   "name": "conda-env-Python3-py"
  },
  "language_info": {
   "codemirror_mode": {
    "name": "ipython",
    "version": 3
   },
   "file_extension": ".py",
   "mimetype": "text/x-python",
   "name": "python",
   "nbconvert_exporter": "python",
   "pygments_lexer": "ipython3",
   "version": "3.6.7"
  }
 },
 "nbformat": 4,
 "nbformat_minor": 2
}
